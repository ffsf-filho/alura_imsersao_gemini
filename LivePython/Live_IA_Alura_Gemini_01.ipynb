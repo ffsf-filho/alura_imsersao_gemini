{
  "nbformat": 4,
  "nbformat_minor": 0,
  "metadata": {
    "colab": {
      "provenance": []
    },
    "kernelspec": {
      "name": "python3",
      "display_name": "Python 3"
    },
    "language_info": {
      "name": "python"
    }
  },
  "cells": [
    {
      "cell_type": "markdown",
      "source": [
        "[API_LIGUAGENS_PROGRAMACAO](https://raw.githubusercontent.com/guilhermeonrails/api-imersao-ia/main/words.json)"
      ],
      "metadata": {
        "id": "1QWYJgwfQMMv"
      }
    },
    {
      "cell_type": "code",
      "execution_count": 1,
      "metadata": {
        "colab": {
          "base_uri": "https://localhost:8080/"
        },
        "id": "BILRho56OuE0",
        "outputId": "061fc89e-e38f-4ac9-f925-57af32daed12"
      },
      "outputs": [
        {
          "output_type": "stream",
          "name": "stdout",
          "text": [
            "Hello World\n"
          ]
        }
      ],
      "source": [
        "print(\"Hello World\")"
      ]
    },
    {
      "cell_type": "code",
      "source": [
        "# trazendo as bibliotecas capazes de realizar requisições\n",
        "import requests\n",
        "import random\n",
        "\n",
        "# cria uma variável chamada url que armazena o edereço com as info que desejo buscar\n",
        "url = 'https://raw.githubusercontent.com/guilhermeonrails/api-imersao-ia/main/words.json'\n",
        "# façp a requisção e armazenamento em uma variável chamada resposta\n",
        "resposta = requests.get(url)\n",
        "# transformo a resposta em um JSON\n",
        "data = resposta.json()\n",
        "# exibi as informações com o comando print\n",
        "print(data)"
      ],
      "metadata": {
        "colab": {
          "base_uri": "https://localhost:8080/"
        },
        "id": "2ZgJxCa8QZqI",
        "outputId": "d5bc7364-77a0-4bb1-a372-06befcb80f86"
      },
      "execution_count": 1,
      "outputs": [
        {
          "output_type": "stream",
          "name": "stdout",
          "text": [
            "[{'palavra': 'python', 'dica': 'automatizar tarefas e desenvolver aplicações web.'}, {'palavra': 'javascript', 'dica': 'criar interatividade em páginas web e desenvolver aplicações front-end.'}, {'palavra': 'java', 'dica': 'desenvolver aplicações empresariais e para dispositivos móveis.'}, {'palavra': 'html', 'dica': 'estruturar conteúdo em páginas web.'}, {'palavra': 'css', 'dica': 'estilizar elementos em páginas web.'}, {'palavra': 'sql', 'dica': 'gerenciar e consultar bancos de dados relacionais.'}, {'palavra': 'react', 'dica': 'desenvolver interfaces de usuário reativas e escaláveis.'}, {'palavra': 'angular', 'dica': 'construir aplicativos web spa (single page application) complexos.'}, {'palavra': 'node', 'dica': 'criar aplicativos de servidor escaláveis e de alta performance.'}, {'palavra': 'vue', 'dica': 'desenvolver interfaces de usuário interativas e dinâmicas.'}, {'palavra': 'ruby', 'dica': 'desenvolver aplicações web e scripts de automação.'}, {'palavra': 'php', 'dica': 'construir aplicações web dinâmicas e interativas.'}, {'palavra': 'c++', 'dica': 'desenvolver software de sistema, jogos e aplicações de alto desempenho.'}, {'palavra': 'c#', 'dica': 'desenvolver aplicações windows e jogos utilizando o framework .net.'}, {'palavra': 'swift', 'dica': 'desenvolver aplicativos para dispositivos apple, como iphone e ipad.'}, {'palavra': 'kotlin', 'dica': 'desenvolver aplicativos android modernos e seguros.'}, {'palavra': 'tensorflow', 'dica': 'construir e treinar modelos de aprendizado de máquina.'}, {'palavra': 'pytorch', 'dica': 'desenvolver e treinar modelos de aprendizado profundo.'}, {'palavra': 'mongodb', 'dica': 'armazenar e consultar dados de forma flexível e escalável.'}, {'palavra': 'postgresql', 'dica': 'gerenciar dados estruturados e relacionais com segurança.'}, {'palavra': 'docker', 'dica': 'empacotar, distribuir e executar aplicativos em contêineres.'}, {'palavra': 'kubernetes', 'dica': 'orquestrar e gerenciar contêineres em ambientes de produção.'}, {'palavra': 'git', 'dica': 'controlar e colaborar no desenvolvimento de código-fonte.'}, {'palavra': 'jupyter', 'dica': 'criar e compartilhar documentos que contenham código interativo, visualizações e textos explicativos.'}, {'palavra': 'r', 'dica': 'analisar dados e criar visualizações estatísticas.'}, {'palavra': 'scala', 'dica': 'desenvolver aplicativos escaláveis e concorrentes na jvm.'}, {'palavra': 'hadoop', 'dica': 'armazenar e processar grandes volumes de dados em clusters distribuídos.'}, {'palavra': 'spark', 'dica': 'processar e analisar dados de forma rápida e escalável.'}, {'palavra': 'arduino', 'dica': 'desenvolver projetos eletrônicos interativos e automatizados.'}, {'palavra': 'raspberry', 'dica': 'criar dispositivos e projetos de iot (internet das coisas) com baixo custo.'}, {'palavra': 'linux', 'dica': 'utilizar e administrar sistemas operacionais de código aberto.'}, {'palavra': 'windows', 'dica': 'desenvolver aplicativos e sistemas operacionais para computadores pessoais.'}, {'palavra': 'macos', 'dica': 'desenvolver aplicativos para computadores apple e sistemas operacionais.'}, {'palavra': 'android', 'dica': 'desenvolver aplicativos para dispositivos móveis android.'}, {'palavra': 'ios', 'dica': 'desenvolver aplicativos para dispositivos móveis apple (iphone e ipad).'}, {'palavra': 'firebase', 'dica': 'desenvolver aplicativos móveis e web com uma plataforma de backend escalável.'}, {'palavra': 'aws', 'dica': 'implantar e gerenciar aplicativos em uma plataforma de nuvem líder de mercado.'}, {'palavra': 'azure', 'dica': 'desenvolver, implantar e gerenciar aplicativos em uma plataforma de nuvem da microsoft.'}, {'palavra': 'google', 'dica': 'utilizar serviços e produtos da google para desenvolvimento e negócios.'}, {'palavra': 'api', 'dica': 'integrar e comunicar sistemas e serviços de software.'}, {'palavra': 'rest', 'dica': 'criar e consumir apis web de maneira simples e eficiente.'}, {'palavra': 'graphql', 'dica': 'consultar e manipular dados de forma eficiente e flexível.'}, {'palavra': 'oauth', 'dica': 'implementar autenticação e autorização em aplicativos.'}]\n"
          ]
        }
      ]
    },
    {
      "cell_type": "code",
      "source": [
        "# Verifico qual é tipo da variável data\n",
        "type(data)"
      ],
      "metadata": {
        "colab": {
          "base_uri": "https://localhost:8080/"
        },
        "id": "7BTBCW1BT9tI",
        "outputId": "2404fb27-146a-48c4-d5b7-3a611dad733d"
      },
      "execution_count": 2,
      "outputs": [
        {
          "output_type": "execute_result",
          "data": {
            "text/plain": [
              "list"
            ]
          },
          "metadata": {},
          "execution_count": 2
        }
      ]
    },
    {
      "cell_type": "code",
      "source": [
        "# conto quantos objetos tem a variável data\n",
        "len(data)"
      ],
      "metadata": {
        "colab": {
          "base_uri": "https://localhost:8080/"
        },
        "id": "LHWHLuPQUGJf",
        "outputId": "d8829579-f67c-4df0-e3df-63c5f9ec1be9"
      },
      "execution_count": 6,
      "outputs": [
        {
          "output_type": "execute_result",
          "data": {
            "text/plain": [
              "43"
            ]
          },
          "metadata": {},
          "execution_count": 6
        }
      ]
    },
    {
      "cell_type": "code",
      "source": [
        "# exibi o primeiro valor da lista data de forma concatenada\n",
        "data[0][\"palavra\"] + \" - \" + data[0][\"dica\"]"
      ],
      "metadata": {
        "colab": {
          "base_uri": "https://localhost:8080/",
          "height": 35
        },
        "id": "y_yCyGzWUJFn",
        "outputId": "1eee4743-c43a-42a7-d038-0fea29aaded6"
      },
      "execution_count": 7,
      "outputs": [
        {
          "output_type": "execute_result",
          "data": {
            "text/plain": [
              "'python - automatizar tarefas e desenvolver aplicações web.'"
            ],
            "application/vnd.google.colaboratory.intrinsic+json": {
              "type": "string"
            }
          },
          "metadata": {},
          "execution_count": 7
        }
      ]
    },
    {
      "cell_type": "code",
      "source": [
        "# cria uma variável valor_secreto que armazena um item da lista de forma aleátoria\n",
        "valor_secreto = random.choice(data)\n",
        "# cria a variável secreta para armazenar o valor da chave palavra\n",
        "palavra_secreta = valor_secreto[\"palavra\"]\n",
        "# cria a variável dica para armazenar o valor da chave dica\n",
        "dica = valor_secreto[\"dica\"]\n",
        "# imprime um texto concatenado como número de letras da plavra_secreta e o valor da dica.\n",
        "print(f'A palavra secreta tem {len(palavra_secreta)} letras -> {dica}')"
      ],
      "metadata": {
        "colab": {
          "base_uri": "https://localhost:8080/"
        },
        "id": "5zg1a5ceQ82V",
        "outputId": "1e2a44b0-63bb-4f51-d800-08fcc60bb7c7"
      },
      "execution_count": 13,
      "outputs": [
        {
          "output_type": "stream",
          "name": "stdout",
          "text": [
            "A palavra secreta tem 7 letras -> desenvolver aplicativos e sistemas operacionais para computadores pessoais.\n"
          ]
        }
      ]
    },
    {
      "cell_type": "code",
      "source": [
        "# receber o chute ou palpite da tecnologia\n",
        "chute = input(f'A palavra secreta tem {len(palavra_secreta)} letras -> {dica}')\n",
        "\n",
        "# verifica se o valor da variável chue é igual ao valor da variável palavra_chave\n",
        "if chute.strip().lower() == palavra_secreta.strip().lower():\n",
        "  print('Acertou')\n",
        "else:\n",
        "  print(f'Errou.. a plavra secreta era {palavra_secreta} | {chute}')"
      ],
      "metadata": {
        "id": "d94yhL8DLD9h"
      },
      "execution_count": null,
      "outputs": []
    }
  ]
}